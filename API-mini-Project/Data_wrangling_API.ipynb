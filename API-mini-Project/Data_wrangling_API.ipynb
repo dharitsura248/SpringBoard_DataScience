{
 "cells": [
  {
   "cell_type": "code",
   "execution_count": 2,
   "metadata": {},
   "outputs": [
    {
     "name": "stdout",
     "output_type": "stream",
     "text": [
      "XbdkSfUkwZyBYHgAyfwV\n"
     ]
    }
   ],
   "source": [
    "# get api key from your .env file\n",
    "import os\n",
    "from dotenv import load_dotenv\n",
    "\n",
    "load_dotenv()\n",
    "API_KEY = os.getenv('NASDAQ_API_KEY')\n"
   ]
  },
  {
   "cell_type": "code",
   "execution_count": 3,
   "metadata": {},
   "outputs": [],
   "source": [
    "import requests"
   ]
  },
  {
   "cell_type": "code",
   "execution_count": 4,
   "metadata": {},
   "outputs": [
    {
     "name": "stdout",
     "output_type": "stream",
     "text": [
      "{\"dataset_data\":{\"limit\":null,\"transform\":null,\"column_index\":null,\"column_names\":[\"Date\",\"Open\",\"High\",\"Low\",\"Close\",\"Change\",\"Traded Volume\",\"Turnover\",\"Last Price of the Day\",\"Daily Traded Units\",\"Daily Turnover\"],\"start_date\":\"2017-01-01\",\"end_date\":\"2017-01-02\",\"frequency\":\"daily\",\"data\":[[\"2017-01-02\",34.99,35.94,34.99,35.8,null,44700.0,1590561.0,null,null,null]],\"collapse\":null,\"order\":null}}\n"
     ]
    }
   ],
   "source": [
    "# Now, call the Quandl API and pull out a small sample of the data (only one day) to get a glimpse\n",
    "# into the JSON structure that will be returned\n",
    "#url = \"https://www.quandl.com/api/v3/datasets/FSE/AFX_X.json?api_key=API_KEY&start_date=2017-01-01&end_date=2017-01-02\"\n",
    "\n",
    "url_test = \"https://www.quandl.com/api/v3/datasets/FSE/AFX_X/data.json?\" + \\\n",
    "      \"&start_date=2017-01-01&end_date=2017-01-02&api_key=\" + API_KEY\n",
    "req_test = requests.get(url_test)\n",
    "print(req_test.text)"
   ]
  },
  {
   "cell_type": "markdown",
   "metadata": {},
   "source": [
    "Question 1 : Collect data from the Franfurt Stock Exchange, for the ticker AFX_X, for the whole year 2017 (keep in mind that the date format is YYYY-MM-DD)."
   ]
  },
  {
   "cell_type": "code",
   "execution_count": 5,
   "metadata": {},
   "outputs": [],
   "source": [
    "url = \"https://www.quandl.com/api/v3/datasets/FSE/AFX_X/data.json?\" + \\\n",
    "      \"&start_date=2017-01-01&end_date=2017-12-31&api_key=\" + API_KEY\n",
    "req = requests.get(url)"
   ]
  },
  {
   "cell_type": "markdown",
   "metadata": {},
   "source": [
    "Question 2 : Convert the returned JSON object into a Python dictionary?"
   ]
  },
  {
   "cell_type": "code",
   "execution_count": 6,
   "metadata": {},
   "outputs": [],
   "source": [
    "import json\n",
    "\n",
    "jsonString = str(req.text)\n",
    "\n",
    "afx_x_dict = json.loads(jsonString)\n"
   ]
  },
  {
   "cell_type": "markdown",
   "metadata": {},
   "source": [
    "Question 3 : Calculate what the highest and lowest opening prices were for the stock in this period"
   ]
  },
  {
   "cell_type": "code",
   "execution_count": 7,
   "metadata": {},
   "outputs": [
    {
     "name": "stdout",
     "output_type": "stream",
     "text": [
      "Highest opening price in 2017 was €53.11 and lowest opening price in 2017 was €34.00.\n"
     ]
    }
   ],
   "source": [
    "lowest_price = afx_x_dict['dataset_data']['data'][0][1]\n",
    "highest_price = afx_x_dict['dataset_data']['data'][0][1]\n",
    "# for x in afx_x_dict['dataset_data']['data']:\n",
    "#     if x[][1]\n",
    "for i in range(len(afx_x_dict['dataset_data']['data'])-1):    \n",
    "    if (afx_x_dict['dataset_data']['data'][i][1]) != None:\n",
    "        if (afx_x_dict['dataset_data']['data'][i+1][1]) != None:            \n",
    "            if afx_x_dict['dataset_data']['data'][i][1] < lowest_price:\n",
    "                lowest_price = afx_x_dict['dataset_data']['data'][i][1]\n",
    "            if afx_x_dict['dataset_data']['data'][i+1][1] > highest_price:\n",
    "                highest_price = afx_x_dict['dataset_data']['data'][i+1][1]\n",
    "\n",
    "print(\"Highest opening price in 2017 was €{0:.2f} and lowest opening price in 2017 was €{1:.2f}.\".format(round(highest_price, 2), round(lowest_price, 2)))\n"
   ]
  },
  {
   "cell_type": "markdown",
   "metadata": {},
   "source": [
    "Question 4: What was the largest change in any one day (based on High and Low price)?\n",
    "\n"
   ]
  },
  {
   "cell_type": "code",
   "execution_count": 8,
   "metadata": {},
   "outputs": [
    {
     "name": "stdout",
     "output_type": "stream",
     "text": [
      "The largest change in any one day in 2017 was €2.81.\n"
     ]
    }
   ],
   "source": [
    "change = 0.0\n",
    "for i in range(len(afx_x_dict['dataset_data']['data'])):\n",
    "    if (afx_x_dict['dataset_data']['data'][i][1]) != None:\n",
    "        if (afx_x_dict['dataset_data']['data'][i][2] - afx_x_dict['dataset_data']['data'][i][3]) > change:\n",
    "            change = (afx_x_dict['dataset_data']['data'][i][2] - afx_x_dict['dataset_data']['data'][i][3])\n",
    "\n",
    "print(\"The largest change in any one day in 2017 was €{0:.2f}.\".format(round(change, 2)))        "
   ]
  },
  {
   "cell_type": "markdown",
   "metadata": {},
   "source": [
    "Question 5: What was the largest change between any two days (based on Closing Price)?"
   ]
  },
  {
   "cell_type": "code",
   "execution_count": 9,
   "metadata": {},
   "outputs": [
    {
     "name": "stdout",
     "output_type": "stream",
     "text": [
      "The largest change between any two days (based on Closing Price) was €2.56\n"
     ]
    }
   ],
   "source": [
    "closing_change = 0.0\n",
    "for i in range(len(afx_x_dict['dataset_data']['data'])-1):\n",
    "    if (afx_x_dict['dataset_data']['data'][i][4]) != None:\n",
    "        if (afx_x_dict['dataset_data']['data'][i+1][4] - afx_x_dict['dataset_data']['data'][i][4]) > closing_change:\n",
    "            closing_change = (afx_x_dict['dataset_data']['data'][i+1][4] - afx_x_dict['dataset_data']['data'][i][4])\n",
    "\n",
    "print(\"The largest change between any two days (based on Closing Price) was €{0:.2f}\".format(round(closing_change,2)))"
   ]
  },
  {
   "cell_type": "markdown",
   "metadata": {},
   "source": [
    "Question 6: What was the average daily trading volume during this year?"
   ]
  },
  {
   "cell_type": "code",
   "execution_count": 10,
   "metadata": {},
   "outputs": [
    {
     "name": "stdout",
     "output_type": "stream",
     "text": [
      "The average daily trading volume was 89124.34 in 2017.\n"
     ]
    }
   ],
   "source": [
    "total_vol = 0\n",
    "for i in range(len(afx_x_dict['dataset_data']['data'])):\n",
    "    total_vol += afx_x_dict['dataset_data']['data'][i][6]\n",
    "\n",
    "avg_vol = total_vol/len(afx_x_dict['dataset_data']['data'])\n",
    "\n",
    "print(\"The average daily trading volume was {0:.2f} in 2017.\".format(avg_vol))"
   ]
  },
  {
   "cell_type": "markdown",
   "metadata": {},
   "source": [
    "Question 7: (Optional) What was the median trading volume during this year. (Note: you may need to implement your own function for calculating the median.)"
   ]
  },
  {
   "cell_type": "code",
   "execution_count": 11,
   "metadata": {},
   "outputs": [
    {
     "name": "stdout",
     "output_type": "stream",
     "text": [
      "The median trading volume was 76286.00 in 2017.\n"
     ]
    }
   ],
   "source": [
    "trading_vol = [afx_x_dict['dataset_data']['data'][i][6] for i in range(len(afx_x_dict['dataset_data']['data'])) ]\n",
    "trading_vol = sorted(trading_vol)\n",
    "\n",
    "n = len(trading_vol)\n",
    "if n % 2 != 0:\n",
    "    vol_median = trading_vol[n // 2]\n",
    "else:\n",
    "    vol_median = (trading_vol[n // 2 - 1] + trading_vol[n // 2]) / 2\n",
    "\n",
    "print(\"The median trading volume was {0:.2f} in 2017.\" .format(vol_median))\n"
   ]
  }
 ],
 "metadata": {
  "interpreter": {
   "hash": "ba497f245e46cb05b3a0e0d97f033c41eced3dd6d67577311158664bed0781ff"
  },
  "kernelspec": {
   "display_name": "Python 3.7.11 64-bit ('base': conda)",
   "name": "python3"
  },
  "language_info": {
   "codemirror_mode": {
    "name": "ipython",
    "version": 3
   },
   "file_extension": ".py",
   "mimetype": "text/x-python",
   "name": "python",
   "nbconvert_exporter": "python",
   "pygments_lexer": "ipython3",
   "version": "3.7.11"
  },
  "orig_nbformat": 4
 },
 "nbformat": 4,
 "nbformat_minor": 2
}
