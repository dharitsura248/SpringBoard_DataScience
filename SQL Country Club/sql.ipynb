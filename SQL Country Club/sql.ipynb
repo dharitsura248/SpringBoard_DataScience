{
 "cells": [
  {
   "cell_type": "code",
   "execution_count": 1,
   "metadata": {},
   "outputs": [],
   "source": [
    "import sqlite3"
   ]
  },
  {
   "cell_type": "code",
   "execution_count": 2,
   "metadata": {},
   "outputs": [],
   "source": [
    "conn = sqlite3.connect(\"sqlite_db_pythonsqlite.db\")\n",
    "c = conn.cursor()"
   ]
  },
  {
   "cell_type": "code",
   "execution_count": 3,
   "metadata": {},
   "outputs": [],
   "source": [
    "q10_query = \"\"\"SELECT sub.name, SUM( sub.revenue ) AS revenue\n",
    "FROM (\n",
    "SELECT b.facid, b.memid, f.name, f.guestcost, f.membercost, COUNT( b.facid ) AS facid_count,\n",
    "CASE\n",
    "WHEN b.memid =0\n",
    "THEN COUNT( b.facid ) * f.guestcost\n",
    "ELSE COUNT( b.facid ) * f.membercost\n",
    "END AS 'revenue'\n",
    "FROM Bookings AS b\n",
    "JOIN Facilities AS f ON b.facid = f.facid\n",
    "GROUP BY b.facid, b.memid\n",
    ") AS sub\n",
    "GROUP BY sub.facid\n",
    "HAVING revenue <=1000\"\"\""
   ]
  },
  {
   "cell_type": "code",
   "execution_count": 5,
   "metadata": {},
   "outputs": [
    {
     "data": {
      "text/plain": [
       "[('Badminton Court', 604.5),\n",
       " ('Table Tennis', 90),\n",
       " ('Snooker Table', 115),\n",
       " ('Pool Table', 265)]"
      ]
     },
     "execution_count": 5,
     "metadata": {},
     "output_type": "execute_result"
    }
   ],
   "source": [
    "ans_10 = [row for row in c.execute(q10_query)]\n",
    "ans_10"
   ]
  },
  {
   "cell_type": "code",
   "execution_count": 6,
   "metadata": {},
   "outputs": [],
   "source": [
    "q11_query = \"\"\"SELECT m.surname, m.firstname, m.recommendedby AS recomender_id, r.surname, r.firstname\n",
    "FROM Members AS r\n",
    "JOIN Members AS m ON m.recommendedby = r.memid\n",
    "WHERE m.recommendedby !=0\n",
    "ORDER BY r.surname, r.firstname\n",
    "\"\"\""
   ]
  },
  {
   "cell_type": "code",
   "execution_count": 7,
   "metadata": {},
   "outputs": [
    {
     "name": "stdout",
     "output_type": "stream",
     "text": [
      "('Sarwin', 'Ramnaresh', '15', 'Bader', 'Florence')\n",
      "('Coplin', 'Joan', '16', 'Baker', 'Timothy')\n",
      "('Genting', 'Matthew', '5', 'Butters', 'Gerald')\n",
      "('Baker', 'Timothy', '13', 'Farrell', 'Jemima')\n",
      "('Pinker', 'David', '13', 'Farrell', 'Jemima')\n",
      "('Rumney', 'Henrietta', '20', 'Genting', 'Matthew')\n",
      "('Jones', 'Douglas', '11', 'Jones', 'David')\n",
      "('Dare', 'Nancy', '4', 'Joplette', 'Janice')\n",
      "('Jones', 'David', '4', 'Joplette', 'Janice')\n",
      "('Hunt', 'John', '30', 'Purview', 'Millicent')\n",
      "('Boothe', 'Tim', '3', 'Rownam', 'Tim')\n",
      "('Joplette', 'Janice', '1', 'Smith', 'Darren')\n",
      "('Butters', 'Gerald', '1', 'Smith', 'Darren')\n",
      "('Owen', 'Charles', '1', 'Smith', 'Darren')\n",
      "('Smith', 'Jack', '1', 'Smith', 'Darren')\n",
      "('Mackenzie', 'Anna', '1', 'Smith', 'Darren')\n",
      "('Worthington-Smyth', 'Henry', '2', 'Smith', 'Tracy')\n",
      "('Purview', 'Millicent', '2', 'Smith', 'Tracy')\n",
      "('Crumpet', 'Erica', '2', 'Smith', 'Tracy')\n",
      "('Baker', 'Anne', '9', 'Stibbons', 'Ponder')\n",
      "('Bader', 'Florence', '9', 'Stibbons', 'Ponder')\n",
      "('Stibbons', 'Ponder', '6', 'Tracy', 'Burton')\n"
     ]
    }
   ],
   "source": [
    "for row in c.execute(q11_query):\n",
    "    if row[3] != None:\n",
    "        print(row)"
   ]
  },
  {
   "cell_type": "markdown",
   "metadata": {},
   "source": [
    "Q12: Find the facilities with their usage by member but not guests"
   ]
  },
  {
   "cell_type": "code",
   "execution_count": 8,
   "metadata": {},
   "outputs": [],
   "source": [
    "q12_query = \"\"\"SELECT b.facid, COUNT( b.memid ) AS mem_usage, f.name\n",
    "FROM (\n",
    "SELECT facid, memid\n",
    "FROM Bookings\n",
    "WHERE memid !=0\n",
    ") AS b\n",
    "JOIN Facilities AS f ON b.facid = f.facid\n",
    "GROUP BY b.facid\"\"\""
   ]
  },
  {
   "cell_type": "code",
   "execution_count": 9,
   "metadata": {},
   "outputs": [],
   "source": [
    "ans_12 = [row for row in c.execute(q12_query)]"
   ]
  },
  {
   "cell_type": "markdown",
   "metadata": {},
   "source": [
    "Q13 Find the facilities usage by month but not guests"
   ]
  },
  {
   "cell_type": "code",
   "execution_count": 10,
   "metadata": {},
   "outputs": [],
   "source": [
    "q13_query =\"\"\"SELECT b.months, COUNT( b.memid ) AS mem_usage\n",
    "FROM (\n",
    "SELECT strftime('%m', starttime ) AS months, memid\n",
    "FROM Bookings\n",
    "WHERE memid !=0\n",
    ") AS b\n",
    "GROUP BY b.months\"\"\""
   ]
  },
  {
   "cell_type": "code",
   "execution_count": 11,
   "metadata": {},
   "outputs": [
    {
     "data": {
      "text/plain": [
       "[('07', 480), ('08', 1168), ('09', 1512)]"
      ]
     },
     "execution_count": 11,
     "metadata": {},
     "output_type": "execute_result"
    }
   ],
   "source": [
    "ans_13 = [row for row in c.execute(q13_query)]\n",
    "ans_13"
   ]
  }
 ],
 "metadata": {
  "interpreter": {
   "hash": "ba497f245e46cb05b3a0e0d97f033c41eced3dd6d67577311158664bed0781ff"
  },
  "kernelspec": {
   "display_name": "Python 3.7.11 64-bit ('base': conda)",
   "name": "python3"
  },
  "language_info": {
   "codemirror_mode": {
    "name": "ipython",
    "version": 3
   },
   "file_extension": ".py",
   "mimetype": "text/x-python",
   "name": "python",
   "nbconvert_exporter": "python",
   "pygments_lexer": "ipython3",
   "version": "3.7.11"
  },
  "orig_nbformat": 4
 },
 "nbformat": 4,
 "nbformat_minor": 2
}
